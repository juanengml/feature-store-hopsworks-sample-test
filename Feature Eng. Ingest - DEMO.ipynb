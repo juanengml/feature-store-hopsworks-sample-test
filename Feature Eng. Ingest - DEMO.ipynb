{
 "cells": [
  {
   "cell_type": "markdown",
   "id": "shaped-terror",
   "metadata": {},
   "source": [
    "# Feature Engineering/Ingestion\n",
    "\n",
    "* https://examples.hopsworks.ai/featurestore/hsfs/basics/feature_engineering/\n",
    "    \n",
    "![](https://examples.hopsworks.ai/featurestore/hsfs/images/overview.svg)    "
   ]
  },
  {
   "cell_type": "code",
   "execution_count": null,
   "id": "developmental-combine",
   "metadata": {},
   "outputs": [],
   "source": []
  },
  {
   "cell_type": "code",
   "execution_count": 1,
   "id": "portuguese-easter",
   "metadata": {},
   "outputs": [
    {
     "name": "stdout",
     "output_type": "stream",
     "text": [
      "Starting Spark application\n"
     ]
    },
    {
     "data": {
      "text/html": [
       "<table>\n",
       "<tr><th>ID</th><th>YARN Application ID</th><th>Kind</th><th>State</th><th>Spark UI</th><th>Driver log</th></tr><tr><td>4</td><td>application_1619542175403_0008</td><td>pyspark</td><td>idle</td><td><a target=\"_blank\" href=\"http://resourcemanager.service.consul:8088/proxy/application_1619542175403_0008/\">Link</a></td><td><a target=\"_blank\" href=\"http://ip-10-0-0-19.ec2.internal:8042/node/containerlogs/container_e02_1619542175403_0008_01_000001/demo_fs_meb10179__meb10179\">Link</a></td></tr></table>"
      ],
      "text/plain": [
       "<IPython.core.display.HTML object>"
      ]
     },
     "metadata": {},
     "output_type": "display_data"
    },
    {
     "name": "stdout",
     "output_type": "stream",
     "text": [
      "SparkSession available as 'spark'.\n",
      "Connected. Call `.close()` to terminate connection gracefully."
     ]
    }
   ],
   "source": [
    "import hsfs\n",
    "# Create a connection\n",
    "connection = hsfs.connection()\n",
    "# Get the feature store handle for the project's feature store\n",
    "fs = connection.get_feature_store()"
   ]
  },
  {
   "cell_type": "code",
   "execution_count": 2,
   "id": "controlling-sixth",
   "metadata": {},
   "outputs": [],
   "source": [
    "from hops import hdfs\n",
    "from pyspark.sql import functions as F\n",
    "\n",
    "stores_csv = spark.read\\\n",
    "             .option(\"inferSchema\", \"true\")\\\n",
    "             .option(\"header\", \"true\")\\\n",
    "             .format(\"csv\")\\\n",
    "             .load(\"hdfs:///Projects/{}/Jupyter/hsfs/archive/stores data-set.csv\".format(hdfs.project_name()))\n",
    "\n",
    "exogenous_csv = spark.read\\\n",
    "             .option(\"inferSchema\", \"true\")\\\n",
    "             .option(\"header\", \"true\")\\\n",
    "             .format(\"csv\")\\\n",
    "             .load(\"hdfs:///Projects/{}/Jupyter/hsfs/archive/Features data set.csv\".format(hdfs.project_name()))\n",
    "\n",
    "sales_csv = spark.read\\\n",
    "             .option(\"inferSchema\", \"true\")\\\n",
    "             .option(\"header\", \"true\")\\\n",
    "             .format(\"csv\")\\\n",
    "             .load(\"hdfs:///Projects/{}/Jupyter/hsfs/archive/sales data-set.csv\".format(hdfs.project_name()))"
   ]
  },
  {
   "cell_type": "code",
   "execution_count": 3,
   "id": "governmental-playing",
   "metadata": {},
   "outputs": [],
   "source": [
    "stores_depts_count = stores_csv\\\n",
    "                    .join(sales_csv, \"store\")\\\n",
    "                    .groupBy(\"store\")\\\n",
    "                    .agg(F.countDistinct(\"dept\"))\\\n",
    "                    .withColumnRenamed(\"count(DISTINCT dept)\", \"num_depts\")\n",
    "\n",
    "stores_fg = stores_csv\\\n",
    "            .join(stores_depts_count, \"store\")"
   ]
  },
  {
   "cell_type": "code",
   "execution_count": 4,
   "id": "falling-momentum",
   "metadata": {},
   "outputs": [],
   "source": [
    "store_fg_meta = fs.create_feature_group(name=\"store_fg_abobora_quadrada\",\n",
    "                                       version=1,\n",
    "                                       primary_key=['store'],\n",
    "                                       description=\"Store related features\",\n",
    "                                       time_travel_format=None,\n",
    "                                       statistics_config={\"enabled\": True, \"histograms\": True, \"correlations\": True})"
   ]
  },
  {
   "cell_type": "code",
   "execution_count": 5,
   "id": "bigger-generic",
   "metadata": {},
   "outputs": [
    {
     "name": "stdout",
     "output_type": "stream",
     "text": [
      "<hsfs.feature_group.FeatureGroup object at 0x7f22928dddd0>"
     ]
    }
   ],
   "source": [
    "store_fg_meta.save(stores_fg)"
   ]
  },
  {
   "cell_type": "code",
   "execution_count": 6,
   "id": "silent-receiver",
   "metadata": {},
   "outputs": [],
   "source": [
    "from pyspark.sql import Window\n",
    "days = lambda i: i * 86400 \n",
    "\n",
    "sales_df = sales_csv.withColumn('date', F.to_date(\"date\", 'dd/MM/yyy'))\\\n",
    "                    .withColumn('timestamp', F.unix_timestamp(\"date\"))\n",
    "\n",
    "# Define aggregation window to compute sales performances over the past period of time\n",
    "last_month_window_store_dep = Window.partitionBy(['store', 'dept']).orderBy(F.col(\"timestamp\").cast(\"long\")).rangeBetween(days(-30), days(-1))\n",
    "last_quarter_window_store_dep = Window.partitionBy(['store', 'dept']).orderBy(F.col(\"timestamp\").cast(\"long\")).rangeBetween(days(-90), days(-1))\n",
    "last_six_month_window_store_dep = Window.partitionBy(['store', 'dept']).orderBy(F.col(\"timestamp\").cast(\"long\")).rangeBetween(days(-180), days(-1))\n",
    "last_year_window_store_dep = Window.partitionBy(['store', 'dept']).orderBy(F.col(\"timestamp\").cast(\"long\")).rangeBetween(days(-365), days(-1))\n",
    "\n",
    "last_month_window_store = Window.partitionBy('store').orderBy(F.col(\"timestamp\").cast(\"long\")).rangeBetween(days(-30), days(-1))\n",
    "last_quarter_window_store = Window.partitionBy('store').orderBy(F.col(\"timestamp\").cast(\"long\")).rangeBetween(days(-90), days(-1))\n",
    "last_six_month_window_store = Window.partitionBy('store').orderBy(F.col(\"timestamp\").cast(\"long\")).rangeBetween(days(-180), days(-1))\n",
    "last_year_window_store = Window.partitionBy('store').orderBy(F.col(\"timestamp\").cast(\"long\")).rangeBetween(days(-365), days(-1))\n",
    "\n",
    "# Build feature group dataframe\n",
    "sales_fg = sales_df.withColumn(\"sales_last_month_store_dep\", F.sum(\"weekly_sales\").over(last_month_window_store_dep))\\\n",
    "        .withColumn(\"sales_last_quarter_store_dep\", F.sum(\"weekly_sales\").over(last_quarter_window_store_dep))\\\n",
    "        .withColumn(\"sales_last_six_month_store_dep\", F.sum(\"weekly_sales\").over(last_six_month_window_store_dep))\\\n",
    "        .withColumn(\"sales_last_year_store_dep\", F.sum(\"weekly_sales\").over(last_year_window_store_dep))\\\n",
    "        .withColumn(\"sales_last_month_store\", F.sum(\"weekly_sales\").over(last_month_window_store))\\\n",
    "        .withColumn(\"sales_last_quarter_store\", F.sum(\"weekly_sales\").over(last_quarter_window_store))\\\n",
    "        .withColumn(\"sales_last_six_month_store\", F.sum(\"weekly_sales\").over(last_six_month_window_store))\\\n",
    "        .withColumn(\"sales_last_year_store\", F.sum(\"weekly_sales\").over(last_year_window_store))\\\n",
    "        .drop(\"timestamp\")\\\n",
    "        .fillna(0)"
   ]
  },
  {
   "cell_type": "code",
   "execution_count": 7,
   "id": "instructional-dairy",
   "metadata": {},
   "outputs": [],
   "source": [
    "sales_fg_meta = fs.create_feature_group(name=\"sales_fg\",\n",
    "                                        version=1,\n",
    "                                        primary_key=['store', 'dept', 'date'],\n",
    "                                        description=\"Sales related features\",\n",
    "                                        time_travel_format=None,                                        \n",
    "                                        statistics_config=False)"
   ]
  },
  {
   "cell_type": "code",
   "execution_count": 8,
   "id": "variable-clark",
   "metadata": {},
   "outputs": [
    {
     "name": "stdout",
     "output_type": "stream",
     "text": [
      "<hsfs.feature_group.FeatureGroup object at 0x7ff08e09fa50>"
     ]
    }
   ],
   "source": [
    "sales_fg_meta.save(sales_fg)\n"
   ]
  },
  {
   "cell_type": "code",
   "execution_count": 9,
   "id": "resistant-nature",
   "metadata": {},
   "outputs": [
    {
     "name": "stdout",
     "output_type": "stream",
     "text": [
      "<hsfs.feature_group.FeatureGroup object at 0x7ff08e7de910>"
     ]
    }
   ],
   "source": [
    "sales_part_fg_meta = fs.create_feature_group(name=\"sales_fg\",\n",
    "                                        version=2,\n",
    "                                        partition_key=['store'],\n",
    "                                        description=\"Sales related features\",\n",
    "                                        time_travel_format=None,                                                                                          \n",
    "                                        statistics_config=False)\n",
    "sales_part_fg_meta.save(sales_fg)"
   ]
  },
  {
   "cell_type": "code",
   "execution_count": 10,
   "id": "steady-glossary",
   "metadata": {},
   "outputs": [
    {
     "name": "stdout",
     "output_type": "stream",
     "text": [
      "<hsfs.feature_group.FeatureGroup object at 0x7ff08e0a23d0>"
     ]
    }
   ],
   "source": [
    "sales_part_fg_meta = fs.create_feature_group(name=\"sales_fg\",\n",
    "                                        version=3,\n",
    "                                        primary_key=['store', 'dept', 'date'],\n",
    "                                        online_enabled=True,\n",
    "                                        description=\"Sales related features\",\n",
    "                                        time_travel_format=None,                                             \n",
    "                                        statistics_config=False)\n",
    "sales_part_fg_meta.save(sales_fg)"
   ]
  },
  {
   "cell_type": "code",
   "execution_count": 11,
   "id": "organizational-brook",
   "metadata": {},
   "outputs": [
    {
     "name": "stdout",
     "output_type": "stream",
     "text": [
      "<hsfs.feature_group.FeatureGroup object at 0x7ff08e0587d0>"
     ]
    }
   ],
   "source": [
    "exogenous_fg = exogenous_csv.withColumn('date', F.to_date(\"date\", 'dd/MM/yyy'))\n",
    "\n",
    "exogenous_fg_meta = fs.create_feature_group(name=\"exogenous_fg\",\n",
    "                                            version=1,\n",
    "                                            primary_key=['store', 'date'],\n",
    "                                            description=\"External features that influence sales, but are not under the control of the distribution chain\",\n",
    "                                            time_travel_format=None,                                            \n",
    "                                            statistics_config={\"enabled\": True, \"histograms\": True, \"correlations\": True})\n",
    "exogenous_fg_meta.save(exogenous_fg)"
   ]
  },
  {
   "cell_type": "code",
   "execution_count": 12,
   "id": "german-blend",
   "metadata": {},
   "outputs": [],
   "source": [
    "exogenous_fg_2013 = exogenous_fg.withColumn('date', F.date_add('date', 365))"
   ]
  },
  {
   "cell_type": "code",
   "execution_count": 13,
   "id": "angry-dubai",
   "metadata": {},
   "outputs": [],
   "source": [
    "exogenous_fg_meta = fs.get_feature_group('exogenous_fg', 1)\n",
    "exogenous_fg_meta.insert(exogenous_fg_2013)"
   ]
  },
  {
   "cell_type": "code",
   "execution_count": 14,
   "id": "artistic-disney",
   "metadata": {},
   "outputs": [],
   "source": [
    "from hsfs.feature import Feature\n"
   ]
  },
  {
   "cell_type": "code",
   "execution_count": 15,
   "id": "weird-magic",
   "metadata": {},
   "outputs": [
    {
     "name": "stdout",
     "output_type": "stream",
     "text": [
      "<hsfs.feature_group.FeatureGroup object at 0x7ff08e05aa10>"
     ]
    }
   ],
   "source": [
    "exogenous_fg_meta.append_features([Feature(\"appended_feature\", type=\"double\", default_value=\"10.0\")])\n"
   ]
  },
  {
   "cell_type": "code",
   "execution_count": 18,
   "id": "solid-memorabilia",
   "metadata": {},
   "outputs": [
    {
     "name": "stdout",
     "output_type": "stream",
     "text": [
      "<hsfs.feature_group.FeatureGroup object at 0x7ff07a6ef550>"
     ]
    }
   ],
   "source": [
    "exogenous_fg_meta = fs.create_feature_group(name=\"exogenous_fg_2_ave_maria\",\n",
    "                                        version=2,\n",
    "                                        primary_key=['store', 'date'],\n",
    "                                        description=\"External features that influence sales, but are not under the control of the distribution chain\",\n",
    "                                        time_travel_format=None,                                                                                        \n",
    "                                        statistics_config=False)\n",
    "exogenous_fg_meta.save(exogenous_fg)"
   ]
  },
  {
   "cell_type": "code",
   "execution_count": 19,
   "id": "confidential-calculation",
   "metadata": {},
   "outputs": [],
   "source": [
    "exogenous_fg_meta = fs.get_feature_group('exogenous_fg_2_ave_maria', 2)\n",
    "exogenous_fg_meta.delete()"
   ]
  },
  {
   "cell_type": "code",
   "execution_count": null,
   "id": "laughing-earthquake",
   "metadata": {},
   "outputs": [],
   "source": []
  }
 ],
 "metadata": {
  "kernelspec": {
   "display_name": "PySpark",
   "language": "python",
   "name": "pysparkkernel"
  },
  "language_info": {
   "codemirror_mode": {
    "name": "python",
    "version": 3
   },
   "mimetype": "text/x-python",
   "name": "pyspark",
   "pygments_lexer": "python3"
  }
 },
 "nbformat": 4,
 "nbformat_minor": 5
}